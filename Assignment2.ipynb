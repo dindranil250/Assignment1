{
 "cells": [
  {
   "cell_type": "code",
   "execution_count": 1,
   "id": "58319a50-2681-440e-b4c5-ed3478332a68",
   "metadata": {},
   "outputs": [],
   "source": [
    "#Q1"
   ]
  },
  {
   "cell_type": "code",
   "execution_count": 2,
   "id": "8b34696b-aca3-4776-9301-cfc81d8d811f",
   "metadata": {},
   "outputs": [],
   "source": [
    "## def _function_name_ (arguments):\n",
    "##function definations/logics"
   ]
  },
  {
   "cell_type": "code",
   "execution_count": 4,
   "id": "b5f199a3-493a-4b3c-af4b-9e6aade769eb",
   "metadata": {},
   "outputs": [],
   "source": [
    "def odd():\n",
    "    i =1\n",
    "    l1=[]\n",
    "    while i <=25:\n",
    "        if i%2==1:\n",
    "            l1.append(i)\n",
    "        i=i+1\n",
    "    return l1"
   ]
  },
  {
   "cell_type": "code",
   "execution_count": 5,
   "id": "7e14704b-bd6d-417e-81ba-4b3ebbfe5fd5",
   "metadata": {},
   "outputs": [],
   "source": [
    "l=odd()"
   ]
  },
  {
   "cell_type": "code",
   "execution_count": 6,
   "id": "2690a55a-4098-47b9-8267-7e7319a0a7d9",
   "metadata": {},
   "outputs": [
    {
     "data": {
      "text/plain": [
       "[1, 3, 5, 7, 9, 11, 13, 15, 17, 19, 21, 23, 25]"
      ]
     },
     "execution_count": 6,
     "metadata": {},
     "output_type": "execute_result"
    }
   ],
   "source": [
    "l"
   ]
  },
  {
   "cell_type": "code",
   "execution_count": 8,
   "id": "4793d435-419d-4421-ad0b-fe62350d16c7",
   "metadata": {},
   "outputs": [],
   "source": [
    "## *args(positional arguments) is used when we need to pass n inputs, where n is any natural number. It is passed as a tuple\n",
    "## **kwargs(keyword arguments) is used when we need to pass n inputs in key value pair form, where n is any natural number. argumnets is passed as dictionary"
   ]
  },
  {
   "cell_type": "code",
   "execution_count": 9,
   "id": "10af7a58-7898-457f-bd54-4617be76ff62",
   "metadata": {},
   "outputs": [],
   "source": [
    "def sum(*args):\n",
    "    total =0\n",
    "    for i in args:\n",
    "        total+=i\n",
    "    return total"
   ]
  },
  {
   "cell_type": "code",
   "execution_count": 10,
   "id": "6c27c600-96f8-492e-8247-75f5a1b3013d",
   "metadata": {},
   "outputs": [
    {
     "data": {
      "text/plain": [
       "15"
      ]
     },
     "execution_count": 10,
     "metadata": {},
     "output_type": "execute_result"
    }
   ],
   "source": [
    "sum(1,2,3,4,5)"
   ]
  },
  {
   "cell_type": "code",
   "execution_count": 11,
   "id": "be8f27da-80ad-4ec3-85c1-7cb4e730f9c5",
   "metadata": {},
   "outputs": [],
   "source": [
    "def print_info(**kwargs):\n",
    "    for key, value in kwargs.items():\n",
    "        print(f\"{key}:{value}\")"
   ]
  },
  {
   "cell_type": "code",
   "execution_count": 12,
   "id": "551a29bf-9478-4be6-a645-1bafc6332218",
   "metadata": {},
   "outputs": [
    {
     "name": "stdout",
     "output_type": "stream",
     "text": [
      "name:Alice\n",
      "age:30\n",
      "job:Engineer\n"
     ]
    }
   ],
   "source": [
    "print_info(name=\"Alice\", age=30, job=\"Engineer\")"
   ]
  },
  {
   "cell_type": "code",
   "execution_count": 13,
   "id": "c7d55865-4dbf-4bda-aa9c-b0d9de470165",
   "metadata": {},
   "outputs": [],
   "source": [
    "#Q3"
   ]
  },
  {
   "cell_type": "code",
   "execution_count": 14,
   "id": "d1f0d15c-3be7-41e5-b394-5631a2d2d02b",
   "metadata": {},
   "outputs": [],
   "source": [
    "#an iterator is a sequence of element obtained from an iterable object using iter() function so that each each element can be accesed efficiently\n",
    "#iter() is used to initialise the iterator object\n",
    "#next() is used for iteration"
   ]
  },
  {
   "cell_type": "code",
   "execution_count": 16,
   "id": "f4ee6af0-498b-4aa6-9308-c79be091a79c",
   "metadata": {},
   "outputs": [
    {
     "name": "stdout",
     "output_type": "stream",
     "text": [
      "2\n",
      "4\n",
      "6\n",
      "8\n",
      "10\n"
     ]
    }
   ],
   "source": [
    "l=[2,4,6,8,10,12,14,16,18,20]\n",
    "list_iterator=iter(l)\n",
    "count=0\n",
    "while count<5:\n",
    "    print(next(list_iterator))\n",
    "    count=count+1"
   ]
  },
  {
   "cell_type": "code",
   "execution_count": 17,
   "id": "cb3e0406-e9ca-4d77-9a57-04555b270857",
   "metadata": {},
   "outputs": [],
   "source": [
    "#Q4"
   ]
  },
  {
   "cell_type": "code",
   "execution_count": 18,
   "id": "0c614c42-cda8-4d1e-8b73-df19e3efe06a",
   "metadata": {},
   "outputs": [
    {
     "data": {
      "text/plain": [
       "\"\\nA generator function is a special type of function which returns an iterator, unlike a function which terminates its execution after\\nreturning a value it doesn't terminates rather it suspends its execution after reaching the yeild statement and returns the value of\\ngenerator and preserves the state for the next execution. If the iterator is further iterated over , the exectution start from the last \\npreserved state of the generator.\\n\\nWhy yeild keyword is used ?\\nThe yeild generates value from the generator, and suspended its execution and preserved the state for later resumption. This makes the \\ngenerator function highly efficient as they generate value on the fly and do not require storing the entire list of the result.\\n\\n\""
      ]
     },
     "execution_count": 18,
     "metadata": {},
     "output_type": "execute_result"
    }
   ],
   "source": [
    "\"\"\"\n",
    "A generator function is a special type of function which returns an iterator, unlike a function which terminates its execution after\n",
    "returning a value it doesn't terminates rather it suspends its execution after reaching the yeild statement and returns the value of\n",
    "generator and preserves the state for the next execution. If the iterator is further iterated over , the exectution start from the last \n",
    "preserved state of the generator.\n",
    "\n",
    "Why yeild keyword is used ?\n",
    "The yeild generates value from the generator, and suspended its execution and preserved the state for later resumption. This makes the \n",
    "generator function highly efficient as they generate value on the fly and do not require storing the entire list of the result.\n",
    "\n",
    "\"\"\"\n"
   ]
  },
  {
   "cell_type": "code",
   "execution_count": 19,
   "id": "cca851aa-1ac6-44a7-b0c3-8dcde463985e",
   "metadata": {},
   "outputs": [],
   "source": [
    "def fibonacci_generator():\n",
    "    a,b = 0,1\n",
    "    while True:\n",
    "        yield a\n",
    "        a,b = b,a+b"
   ]
  },
  {
   "cell_type": "code",
   "execution_count": 23,
   "id": "74b37f96-105e-4f64-b4e9-8f7551381a2a",
   "metadata": {},
   "outputs": [],
   "source": [
    "fib_gen=fibonacci_generator()"
   ]
  },
  {
   "cell_type": "code",
   "execution_count": 24,
   "id": "ac829ac0-b760-4bac-a4d1-f64594616d07",
   "metadata": {},
   "outputs": [
    {
     "data": {
      "text/plain": [
       "generator"
      ]
     },
     "execution_count": 24,
     "metadata": {},
     "output_type": "execute_result"
    }
   ],
   "source": [
    "type(fib_gen)"
   ]
  },
  {
   "cell_type": "code",
   "execution_count": 25,
   "id": "0966724f-13c9-4fe1-8487-89ba57ececa0",
   "metadata": {},
   "outputs": [
    {
     "name": "stdout",
     "output_type": "stream",
     "text": [
      "0\n",
      "1\n",
      "1\n",
      "2\n",
      "3\n",
      "5\n",
      "8\n",
      "13\n",
      "21\n",
      "34\n"
     ]
    }
   ],
   "source": [
    "for i in range(10):\n",
    "    print(next(fib_gen))"
   ]
  },
  {
   "cell_type": "code",
   "execution_count": 1,
   "id": "592296fe-8ea5-46c5-aa71-5e74f7d38264",
   "metadata": {},
   "outputs": [],
   "source": [
    "#Q5"
   ]
  },
  {
   "cell_type": "code",
   "execution_count": 1,
   "id": "8611f156-9318-471f-b542-4d1c64848afa",
   "metadata": {},
   "outputs": [],
   "source": [
    "import math\n"
   ]
  },
  {
   "cell_type": "code",
   "execution_count": 2,
   "id": "a75c8c32-0611-4f73-a211-cf11816a5c6a",
   "metadata": {},
   "outputs": [],
   "source": [
    "\n",
    "def isPrime():\n",
    "    for i in range(2, 1000):\n",
    "        if i == 2:\n",
    "            yield i\n",
    "        else:\n",
    "            is_prime = True\n",
    "            for j in range(2, int(math.sqrt(i)) + 1):\n",
    "                if i % j == 0:\n",
    "                    is_prime = False\n",
    "                    break\n",
    "            if is_prime:\n",
    "                yield i"
   ]
  },
  {
   "cell_type": "code",
   "execution_count": 3,
   "id": "23c56317-92d1-4cae-bbc1-ed6579c6b759",
   "metadata": {},
   "outputs": [],
   "source": [
    "primes=isPrime()"
   ]
  },
  {
   "cell_type": "code",
   "execution_count": 6,
   "id": "21a7e409-767e-4e00-aa3e-311e21d6038a",
   "metadata": {},
   "outputs": [
    {
     "data": {
      "text/plain": [
       "generator"
      ]
     },
     "execution_count": 6,
     "metadata": {},
     "output_type": "execute_result"
    }
   ],
   "source": [
    "type(primes)"
   ]
  },
  {
   "cell_type": "code",
   "execution_count": 5,
   "id": "de9754bb-0ffa-4412-b1ad-019af1eb4f04",
   "metadata": {},
   "outputs": [
    {
     "name": "stdout",
     "output_type": "stream",
     "text": [
      "2\n",
      "3\n",
      "5\n",
      "7\n",
      "11\n",
      "13\n",
      "17\n",
      "19\n",
      "23\n",
      "29\n",
      "31\n",
      "37\n",
      "41\n",
      "43\n",
      "47\n",
      "53\n",
      "59\n",
      "61\n",
      "67\n",
      "71\n"
     ]
    }
   ],
   "source": [
    "for i in range(20):\n",
    "    print(next(primes))"
   ]
  },
  {
   "cell_type": "code",
   "execution_count": 8,
   "id": "08dbe058-67f9-4f42-86a8-cae17b2f3e97",
   "metadata": {},
   "outputs": [],
   "source": [
    "#Q6"
   ]
  },
  {
   "cell_type": "code",
   "execution_count": 9,
   "id": "d27b59f0-9ce4-4b2d-9123-5b2e4fae12a1",
   "metadata": {},
   "outputs": [
    {
     "name": "stdout",
     "output_type": "stream",
     "text": [
      "0\n",
      "1\n",
      "1\n",
      "2\n",
      "3\n",
      "5\n",
      "8\n",
      "13\n",
      "21\n",
      "34\n"
     ]
    }
   ],
   "source": [
    "count = 0\n",
    "a,b = 0,1\n",
    "while count < 10:\n",
    "    print(a)\n",
    "    a,b = b,a+b\n",
    "    count=count+1"
   ]
  },
  {
   "cell_type": "code",
   "execution_count": 10,
   "id": "628c72a2-c7c9-4d67-a0da-f455949a8b58",
   "metadata": {},
   "outputs": [],
   "source": [
    "#Q7"
   ]
  },
  {
   "cell_type": "code",
   "execution_count": 22,
   "id": "7b2a9a53-8b90-48ce-96f5-8b3323d7e675",
   "metadata": {},
   "outputs": [
    {
     "data": {
      "text/plain": [
       "['p', 'w', 's', 'k', 'i', 'l', 'l', 's']"
      ]
     },
     "execution_count": 22,
     "metadata": {},
     "output_type": "execute_result"
    }
   ],
   "source": [
    "l=[]\n",
    "string=\"pwskills\"\n",
    "list(c for c in string)"
   ]
  },
  {
   "cell_type": "code",
   "execution_count": null,
   "id": "2d68854b-2e76-41b4-8a67-0a24bc0c4fea",
   "metadata": {},
   "outputs": [],
   "source": [
    "#Q8"
   ]
  },
  {
   "cell_type": "code",
   "execution_count": 21,
   "id": "61d52125-7ae2-4549-83c7-157887c98126",
   "metadata": {},
   "outputs": [
    {
     "name": "stdin",
     "output_type": "stream",
     "text": [
      "enter your number 100\n"
     ]
    },
    {
     "name": "stdout",
     "output_type": "stream",
     "text": [
      "not a palindrome\n"
     ]
    }
   ],
   "source": [
    "n=int(input(\"enter your number\"))\n",
    "a=\"\"\n",
    "b=n\n",
    "t=1\n",
    "while n >0:\n",
    "    c=n%10\n",
    "    a=a+str(c)\n",
    "    n=int(n/10)\n",
    "if int(a)==b:\n",
    "    print(\"palindrome\")\n",
    "else:\n",
    "    print(\"not a palindrome\")\n"
   ]
  },
  {
   "cell_type": "code",
   "execution_count": 23,
   "id": "9dbef739-e9b7-4e98-9cdc-0b392c8b47b9",
   "metadata": {},
   "outputs": [],
   "source": [
    "#Q9"
   ]
  },
  {
   "cell_type": "code",
   "execution_count": 24,
   "id": "38b67fb5-ae56-4a17-841d-fbded531ce01",
   "metadata": {},
   "outputs": [
    {
     "data": {
      "text/plain": [
       "[1,\n",
       " 3,\n",
       " 5,\n",
       " 7,\n",
       " 9,\n",
       " 11,\n",
       " 13,\n",
       " 15,\n",
       " 17,\n",
       " 19,\n",
       " 21,\n",
       " 23,\n",
       " 25,\n",
       " 27,\n",
       " 29,\n",
       " 31,\n",
       " 33,\n",
       " 35,\n",
       " 37,\n",
       " 39,\n",
       " 41,\n",
       " 43,\n",
       " 45,\n",
       " 47,\n",
       " 49,\n",
       " 51,\n",
       " 53,\n",
       " 55,\n",
       " 57,\n",
       " 59,\n",
       " 61,\n",
       " 63,\n",
       " 65,\n",
       " 67,\n",
       " 69,\n",
       " 71,\n",
       " 73,\n",
       " 75,\n",
       " 77,\n",
       " 79,\n",
       " 81,\n",
       " 83,\n",
       " 85,\n",
       " 87,\n",
       " 89,\n",
       " 91,\n",
       " 93,\n",
       " 95,\n",
       " 97,\n",
       " 99]"
      ]
     },
     "execution_count": 24,
     "metadata": {},
     "output_type": "execute_result"
    }
   ],
   "source": [
    "list(i for i in range(1,101) if i %2==1)"
   ]
  },
  {
   "cell_type": "code",
   "execution_count": null,
   "id": "b8b300ac-7389-4ed0-9729-c4b915b35b68",
   "metadata": {},
   "outputs": [],
   "source": []
  }
 ],
 "metadata": {
  "kernelspec": {
   "display_name": "Python 3 (ipykernel)",
   "language": "python",
   "name": "python3"
  },
  "language_info": {
   "codemirror_mode": {
    "name": "ipython",
    "version": 3
   },
   "file_extension": ".py",
   "mimetype": "text/x-python",
   "name": "python",
   "nbconvert_exporter": "python",
   "pygments_lexer": "ipython3",
   "version": "3.10.8"
  }
 },
 "nbformat": 4,
 "nbformat_minor": 5
}
