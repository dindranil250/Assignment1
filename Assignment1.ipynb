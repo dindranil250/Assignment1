{
 "cells": [
  {
   "cell_type": "code",
   "execution_count": 1,
   "id": "1ec23e1f-7ad6-4b72-b53e-a31ce3a5853d",
   "metadata": {},
   "outputs": [],
   "source": [
    "#Q1"
   ]
  },
  {
   "cell_type": "code",
   "execution_count": 2,
   "id": "1e2a5eef-c375-4e9d-a869-04623bdfab07",
   "metadata": {},
   "outputs": [
    {
     "data": {
      "text/plain": [
       "'\\nWe use a for loop when we need to iterate over a known sequence or range.\\nThis loop is particularly useful for operations that require visiting each element of a collection.\\n\\nWe use a while loop when we need to repeat an action until a specific condition changes.\\nThis is ideal for scenarios where the number of iterations is not predetermined.\\n'"
      ]
     },
     "execution_count": 2,
     "metadata": {},
     "output_type": "execute_result"
    }
   ],
   "source": [
    "\"\"\"\n",
    "We use a for loop when we need to iterate over a known sequence or range.\n",
    "This loop is particularly useful for operations that require visiting each element of a collection.\n",
    "\n",
    "We use a while loop when we need to repeat an action until a specific condition changes.\n",
    "This is ideal for scenarios where the number of iterations is not predetermined.\n",
    "\"\"\""
   ]
  },
  {
   "cell_type": "code",
   "execution_count": 3,
   "id": "9664219b-2584-44cc-8d96-9ed8e70789e8",
   "metadata": {},
   "outputs": [
    {
     "name": "stdout",
     "output_type": "stream",
     "text": [
      "1\n",
      "2\n",
      "3\n",
      "4\n",
      "5\n"
     ]
    }
   ],
   "source": [
    "numbers = [1, 2, 3, 4, 5]\n",
    "\n",
    "# Use a for loop to iterate over the list\n",
    "for number in numbers:\n",
    "    print(number)\n"
   ]
  },
  {
   "cell_type": "code",
   "execution_count": 7,
   "id": "87348afd-88b6-4c5c-89e0-cc1e83ff8ce2",
   "metadata": {},
   "outputs": [
    {
     "name": "stdin",
     "output_type": "stream",
     "text": [
      "enter your number 3\n"
     ]
    },
    {
     "name": "stdout",
     "output_type": "stream",
     "text": [
      "2\n"
     ]
    }
   ],
   "source": [
    "#for finding nth fibonacci number\n",
    "n = int(input(\"enter your number\"))\n",
    "a,b=0,1\n",
    "while n>0:\n",
    "    a,b=b,a+b\n",
    "    n=n-1\n",
    "print(a)"
   ]
  },
  {
   "cell_type": "code",
   "execution_count": 8,
   "id": "db686493-d7af-4084-920b-69dd8110c2ad",
   "metadata": {},
   "outputs": [],
   "source": [
    "#Q2"
   ]
  },
  {
   "cell_type": "code",
   "execution_count": 1,
   "id": "4f84cc0f-d843-459b-af21-c811a3a3b46d",
   "metadata": {},
   "outputs": [
    {
     "name": "stdout",
     "output_type": "stream",
     "text": [
      "sum =  55   product =  3628800\n"
     ]
    }
   ],
   "source": [
    "#using while loop\n",
    "n =10\n",
    "s =0\n",
    "product=1\n",
    "while n>0 :\n",
    "    s=s+n\n",
    "    product = product*n\n",
    "    n=n-1\n",
    "print(\"sum = \",s,\" \",\"product = \",product)\n"
   ]
  },
  {
   "cell_type": "code",
   "execution_count": 4,
   "id": "ac189ad1-f880-4958-9cd3-c8ff1ac79f95",
   "metadata": {},
   "outputs": [
    {
     "name": "stdout",
     "output_type": "stream",
     "text": [
      "sum =  55   product =  3628800\n"
     ]
    }
   ],
   "source": [
    "#using for loop\n",
    "s=0\n",
    "p=1\n",
    "for i in range(1,11):\n",
    "    s=s+i;\n",
    "    p=p*i\n",
    "print(\"sum = \",s,\" \",\"product = \",p)\n"
   ]
  },
  {
   "cell_type": "code",
   "execution_count": 5,
   "id": "44ac44f8-2f41-418f-acc3-e889c0f201ea",
   "metadata": {},
   "outputs": [],
   "source": [
    "#Q3"
   ]
  },
  {
   "cell_type": "code",
   "execution_count": 7,
   "id": "5196df5a-321b-4ab1-bef0-da9bd9c110e7",
   "metadata": {},
   "outputs": [
    {
     "name": "stdin",
     "output_type": "stream",
     "text": [
      "enter the unit of electricity consumed by the user 310\n"
     ]
    },
    {
     "name": "stdout",
     "output_type": "stream",
     "text": [
      "the total electricity bill should be  2250\n"
     ]
    }
   ],
   "source": [
    "n=int(input(\"enter the unit of electricity consumed by the user\"))\n",
    "bill=0\n",
    "if(n<=100):\n",
    "    bill=n*4.5\n",
    "elif n<=200:\n",
    "    bill=450+(n-100)*6\n",
    "elif n<=300:\n",
    "    bill=1050+(n-200)*10\n",
    "else:\n",
    "    bill=2050+(n-300)*20\n",
    "print(\"the total electricity bill should be \",bill)"
   ]
  },
  {
   "cell_type": "code",
   "execution_count": 8,
   "id": "16aac645-d822-4bd6-a94e-98ea71c61560",
   "metadata": {},
   "outputs": [],
   "source": [
    "#Q4\n"
   ]
  },
  {
   "cell_type": "code",
   "execution_count": 10,
   "id": "b85ea8bd-1fa2-4530-9699-78d4e6e57d7e",
   "metadata": {},
   "outputs": [],
   "source": [
    "l=list(range(1,101))"
   ]
  },
  {
   "cell_type": "code",
   "execution_count": 22,
   "id": "38c25230-c9d9-49ac-93a2-50e39010e3ff",
   "metadata": {},
   "outputs": [],
   "source": [
    "l1=[]\n",
    "for i in l:\n",
    "    if i**3%4==0 or i**3%5==0:\n",
    "        l1.append(i)"
   ]
  },
  {
   "cell_type": "code",
   "execution_count": 24,
   "id": "b27dfadb-cf96-4b9b-899f-5b237cf96781",
   "metadata": {},
   "outputs": [
    {
     "name": "stdout",
     "output_type": "stream",
     "text": [
      "2\n",
      "4\n",
      "5\n",
      "6\n",
      "8\n",
      "10\n",
      "12\n",
      "14\n",
      "15\n",
      "16\n",
      "18\n",
      "20\n",
      "22\n",
      "24\n",
      "25\n",
      "26\n",
      "28\n",
      "30\n",
      "32\n",
      "34\n",
      "35\n",
      "36\n",
      "38\n",
      "40\n",
      "42\n",
      "44\n",
      "45\n",
      "46\n",
      "48\n",
      "50\n",
      "52\n",
      "54\n",
      "55\n",
      "56\n",
      "58\n",
      "60\n",
      "62\n",
      "64\n",
      "65\n",
      "66\n",
      "68\n",
      "70\n",
      "72\n",
      "74\n",
      "75\n",
      "76\n",
      "78\n",
      "80\n",
      "82\n",
      "84\n",
      "85\n",
      "86\n",
      "88\n",
      "90\n",
      "92\n",
      "94\n",
      "95\n",
      "96\n",
      "98\n",
      "100\n"
     ]
    }
   ],
   "source": [
    "for j in l1:\n",
    "    print(j)"
   ]
  },
  {
   "cell_type": "code",
   "execution_count": 26,
   "id": "07af7178-aee4-4f5e-ade0-c17a8954a56d",
   "metadata": {},
   "outputs": [
    {
     "name": "stdout",
     "output_type": "stream",
     "text": [
      "Total number of vowels: 12\n"
     ]
    }
   ],
   "source": [
    "string = \"I want to become a data scientist\"\n",
    "vowels = set(\"aeiouAEIOU\")\n",
    "vowel_count = 0\n",
    "for char in string:\n",
    "    if char in vowels:\n",
    "        vowel_count += 1\n",
    "\n",
    "print(\"Total number of vowels:\", vowel_count)\n"
   ]
  },
  {
   "cell_type": "code",
   "execution_count": null,
   "id": "2fa8410a-dbd2-4ba4-b838-0eeca2289ac3",
   "metadata": {},
   "outputs": [],
   "source": []
  }
 ],
 "metadata": {
  "kernelspec": {
   "display_name": "Python 3 (ipykernel)",
   "language": "python",
   "name": "python3"
  },
  "language_info": {
   "codemirror_mode": {
    "name": "ipython",
    "version": 3
   },
   "file_extension": ".py",
   "mimetype": "text/x-python",
   "name": "python",
   "nbconvert_exporter": "python",
   "pygments_lexer": "ipython3",
   "version": "3.10.8"
  }
 },
 "nbformat": 4,
 "nbformat_minor": 5
}
